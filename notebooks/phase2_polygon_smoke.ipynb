{
 "cells": [
  {
   "cell_type": "markdown",
   "metadata": {},
   "source": [
    "# Phase 2 Polygon API Smoke Test\n",
    "\n",
    "This notebook tests the Polygon.io integration and options data pipeline."
   ]
  },
  {
   "cell_type": "code",
   "execution_count": null,
   "metadata": {},
   "outputs": [],
   "source": [
    "import sys\n",
    "import os\n",
    "from pathlib import Path\n",
    "\n",
    "# Add src to path\n",
    "PROJECT_ROOT = Path().resolve().parent\n",
    "sys.path.insert(0, str(PROJECT_ROOT / \"src\"))\n",
    "\n",
    "from config.settings import POLYGON_API_KEY, DATA_PROVIDER\n",
    "from data.providers.polygon_client import PolygonClient\n",
    "from phase2.options_pipeline import OptionsAnalysisPipeline\n",
    "from common.types import LaunchEvent\n",
    "from datetime import datetime, date\n",
    "\n",
    "print(f\"Using provider: {DATA_PROVIDER}\")\n",
    "print(f\"API Key configured: {'Yes' if POLYGON_API_KEY else 'No'}\")"
   ]
  },
  {
   "cell_type": "markdown",
   "metadata": {},
   "source": [
    "## Test 1: Basic Connection"
   ]
  },
  {
   "cell_type": "code",
   "execution_count": null,
   "metadata": {},
   "outputs": [],
   "source": [
    "# Test basic connection\n",
    "client = PolygonClient(POLYGON_API_KEY)\n",
    "is_connected = client.validate_connection()\n",
    "print(f\"Connection successful: {is_connected}\")"
   ]
  },
  {
   "cell_type": "markdown",
   "metadata": {},
   "source": [
    "## Test 2: Stock Data Retrieval"
   ]
  },
  {
   "cell_type": "code",
   "execution_count": null,
   "metadata": {},
   "outputs": [],
   "source": [
    "# Test stock data retrieval\n",
    "from datetime import timedelta\n",
    "\n",
    "end_date = date.today() - timedelta(days=1)  # Yesterday\n",
    "start_date = end_date - timedelta(days=7)    # Last week\n",
    "\n",
    "stock_data = client.get_stock_data(\"AAPL\", start_date, end_date)\n",
    "print(f\"Retrieved {len(stock_data)} days of AAPL data\")\n",
    "print(stock_data.head())"
   ]
  },
  {
   "cell_type": "markdown",
   "metadata": {},
   "source": [
    "## Test 3: Options Chain Data"
   ]
  },
  {
   "cell_type": "code",
   "execution_count": null,
   "metadata": {},
   "outputs": [],
   "source": [
    "# Test options chain data\n",
    "options_date = date.today() - timedelta(days=1)  # Yesterday\n",
    "\n",
    "options_chain = client.get_options_chain(\"AAPL\", options_date)\n",
    "print(f\"Retrieved {len(options_chain)} options contracts\")\n",
    "if len(options_chain) > 0:\n",
    "    print(\"Columns:\", options_chain.columns.tolist())\n",
    "    print(options_chain.head())"
   ]
  },
  {
   "cell_type": "markdown",
   "metadata": {},
   "source": [
    "## Test 4: Options Trades (Premium Feature)"
   ]
  },
  {
   "cell_type": "code",
   "execution_count": null,
   "metadata": {},
   "outputs": [],
   "source": [
    "# Test options trades (may require premium access)\n",
    "trades_end = date.today() - timedelta(days=1)\n",
    "trades_start = trades_end - timedelta(days=3)\n",
    "\n",
    "options_trades = client.get_options_trades(\"AAPL\", trades_start, trades_end)\n",
    "print(f\"Retrieved {len(options_trades)} options trades\")\n",
    "if len(options_trades) > 0:\n",
    "    print(\"Columns:\", options_trades.columns.tolist())\n",
    "    print(options_trades.head())"
   ]
  },
  {
   "cell_type": "markdown",
   "metadata": {},
   "source": [
    "## Test 5: Full Pipeline Test"
   ]
  },
  {
   "cell_type": "code",
   "execution_count": null,
   "metadata": {},
   "outputs": [],
   "source": [
    "# Test the full options pipeline with a recent event\n",
    "pipeline = OptionsAnalysisPipeline()\n",
    "\n",
    "# Create a test event (use a recent Apple event)\n",
    "test_event = LaunchEvent(\n",
    "    name=\"Test iPhone Event\",\n",
    "    company=\"Apple\",\n",
    "    ticker=\"AAPL\",\n",
    "    announcement=date(2023, 9, 12),  # iPhone 15 announcement\n",
    "    release=date(2023, 9, 22),\n",
    "    next_earnings=date(2023, 11, 2),\n",
    "    category=\"Consumer Hardware\"\n",
    ")\n",
    "\n",
    "print(f\"Testing pipeline with: {test_event.name}\")\n",
    "options_data = pipeline.get_options_data_for_event(test_event, lookback_days=5, lookforward_days=2)\n",
    "\n",
    "print(f\"\\nChain data: {len(options_data['chain'])} contracts\")\n",
    "print(f\"Trades data: {len(options_data['trades'])} trades\")"
   ]
  },
  {
   "cell_type": "markdown",
   "metadata": {},
   "source": [
    "## Test 6: Volume Analysis"
   ]
  },
  {
   "cell_type": "code",
   "execution_count": null,
   "metadata": {},
   "outputs": [],
   "source": [
    "# Test volume analysis if we have trades data\n",
    "if len(options_data['trades']) > 0:\n",
    "    analysis = pipeline.analyze_options_volume_patterns(\n",
    "        options_data['trades'], \n",
    "        test_event.announcement\n",
    "    )\n",
    "    \n",
    "    print(\"Volume Analysis Results:\")\n",
    "    for key, value in analysis.items():\n",
    "        if key != 'daily_summary':  # Skip the detailed DataFrame\n",
    "            print(f\"  {key}: {value}\")\n",
    "else:\n",
    "    print(\"No trades data available for volume analysis\")"
   ]
  },
  {
   "cell_type": "markdown",
   "metadata": {},
   "source": [
    "## Summary\n",
    "\n",
    "This notebook tests:\n",
    "1. ✅ API connection\n",
    "2. ✅ Stock data retrieval\n",
    "3. ✅ Options chain data\n",
    "4. ⚠️ Options trades (may require premium)\n",
    "5. ✅ Pipeline integration\n",
    "6. ✅ Volume analysis\n",
    "\n",
    "**Note**: Options trades data typically requires a premium Polygon.io subscription. The free tier provides options chain snapshots but limited historical trades data."
   ]
  }
 ],
 "metadata": {
  "kernelspec": {
   "display_name": "Python 3",
   "language": "python",
   "name": "python3"
  },
  "language_info": {
   "codemirror_mode": {
    "name": "ipython",
    "version": 3
   },
   "file_extension": ".py",
   "mimetype": "text/x-python",
   "name": "python",
   "nbconvert_exporter": "python",
   "pygments_lexer": "ipython3",
   "version": "3.8.0"
  }
 },
 "nbformat": 4,
 "nbformat_minor": 4
}